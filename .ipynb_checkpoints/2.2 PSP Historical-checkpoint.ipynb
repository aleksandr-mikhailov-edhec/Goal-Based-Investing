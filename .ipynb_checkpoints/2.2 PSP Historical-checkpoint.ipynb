{
 "cells": [
  {
   "cell_type": "code",
   "execution_count": 1,
   "id": "dc341b6b-154a-4521-9687-2f460a07bcd0",
   "metadata": {},
   "outputs": [],
   "source": [
    "import pandas as pd\n",
    "import numpy as np\n",
    "import matplotlib. pyplot as plt\n",
    "from scipy.stats import norm"
   ]
  },
  {
   "cell_type": "code",
   "execution_count": 40,
   "id": "00bc4a86-bb67-42d2-8da9-1af77c4ff201",
   "metadata": {},
   "outputs": [
    {
     "name": "stderr",
     "output_type": "stream",
     "text": [
      "/var/folders/6l/37fpcl_x1q35pn2314knfvb40000gn/T/ipykernel_7938/3992272418.py:18: FutureWarning: The argument 'date_parser' is deprecated and will be removed in a future version. Please use 'date_format' instead, or read your data in as 'object' dtype and then call 'to_datetime'.\n",
      "  fama_french_data[dataset] = web.DataReader(dataset, \"famafrench\")\n",
      "/var/folders/6l/37fpcl_x1q35pn2314knfvb40000gn/T/ipykernel_7938/3992272418.py:18: FutureWarning: The argument 'date_parser' is deprecated and will be removed in a future version. Please use 'date_format' instead, or read your data in as 'object' dtype and then call 'to_datetime'.\n",
      "  fama_french_data[dataset] = web.DataReader(dataset, \"famafrench\")\n"
     ]
    },
    {
     "name": "stdout",
     "output_type": "stream",
     "text": [
      "Downloaded: F-F_Research_Data_Factors\n"
     ]
    },
    {
     "name": "stderr",
     "output_type": "stream",
     "text": [
      "/var/folders/6l/37fpcl_x1q35pn2314knfvb40000gn/T/ipykernel_7938/3992272418.py:18: FutureWarning: The argument 'date_parser' is deprecated and will be removed in a future version. Please use 'date_format' instead, or read your data in as 'object' dtype and then call 'to_datetime'.\n",
      "  fama_french_data[dataset] = web.DataReader(dataset, \"famafrench\")\n",
      "/var/folders/6l/37fpcl_x1q35pn2314knfvb40000gn/T/ipykernel_7938/3992272418.py:18: FutureWarning: The argument 'date_parser' is deprecated and will be removed in a future version. Please use 'date_format' instead, or read your data in as 'object' dtype and then call 'to_datetime'.\n",
      "  fama_french_data[dataset] = web.DataReader(dataset, \"famafrench\")\n"
     ]
    },
    {
     "name": "stdout",
     "output_type": "stream",
     "text": [
      "Downloaded: F-F_Research_Data_5_Factors_2x3\n"
     ]
    },
    {
     "name": "stderr",
     "output_type": "stream",
     "text": [
      "/var/folders/6l/37fpcl_x1q35pn2314knfvb40000gn/T/ipykernel_7938/3992272418.py:18: FutureWarning: The argument 'date_parser' is deprecated and will be removed in a future version. Please use 'date_format' instead, or read your data in as 'object' dtype and then call 'to_datetime'.\n",
      "  fama_french_data[dataset] = web.DataReader(dataset, \"famafrench\")\n",
      "/var/folders/6l/37fpcl_x1q35pn2314knfvb40000gn/T/ipykernel_7938/3992272418.py:18: FutureWarning: The argument 'date_parser' is deprecated and will be removed in a future version. Please use 'date_format' instead, or read your data in as 'object' dtype and then call 'to_datetime'.\n",
      "  fama_french_data[dataset] = web.DataReader(dataset, \"famafrench\")\n"
     ]
    },
    {
     "name": "stdout",
     "output_type": "stream",
     "text": [
      "Downloaded: F-F_Momentum_Factor\n"
     ]
    },
    {
     "name": "stderr",
     "output_type": "stream",
     "text": [
      "/var/folders/6l/37fpcl_x1q35pn2314knfvb40000gn/T/ipykernel_7938/3992272418.py:18: FutureWarning: The argument 'date_parser' is deprecated and will be removed in a future version. Please use 'date_format' instead, or read your data in as 'object' dtype and then call 'to_datetime'.\n",
      "  fama_french_data[dataset] = web.DataReader(dataset, \"famafrench\")\n",
      "/var/folders/6l/37fpcl_x1q35pn2314knfvb40000gn/T/ipykernel_7938/3992272418.py:18: FutureWarning: The argument 'date_parser' is deprecated and will be removed in a future version. Please use 'date_format' instead, or read your data in as 'object' dtype and then call 'to_datetime'.\n",
      "  fama_french_data[dataset] = web.DataReader(dataset, \"famafrench\")\n"
     ]
    },
    {
     "name": "stdout",
     "output_type": "stream",
     "text": [
      "Downloaded: F-F_ST_Reversal_Factor\n",
      "Downloaded: F-F_LT_Reversal_Factor\n",
      "Saved F-F_Research_Data_Factors.csv\n",
      "Saved F-F_Research_Data_5_Factors_2x3.csv\n",
      "Saved F-F_Momentum_Factor.csv\n",
      "Saved F-F_ST_Reversal_Factor.csv\n",
      "Saved F-F_LT_Reversal_Factor.csv\n"
     ]
    },
    {
     "name": "stderr",
     "output_type": "stream",
     "text": [
      "/var/folders/6l/37fpcl_x1q35pn2314knfvb40000gn/T/ipykernel_7938/3992272418.py:18: FutureWarning: The argument 'date_parser' is deprecated and will be removed in a future version. Please use 'date_format' instead, or read your data in as 'object' dtype and then call 'to_datetime'.\n",
      "  fama_french_data[dataset] = web.DataReader(dataset, \"famafrench\")\n",
      "/var/folders/6l/37fpcl_x1q35pn2314knfvb40000gn/T/ipykernel_7938/3992272418.py:18: FutureWarning: The argument 'date_parser' is deprecated and will be removed in a future version. Please use 'date_format' instead, or read your data in as 'object' dtype and then call 'to_datetime'.\n",
      "  fama_french_data[dataset] = web.DataReader(dataset, \"famafrench\")\n"
     ]
    }
   ],
   "source": [
    "import pandas_datareader.data as web\n",
    "import pandas as pd\n",
    "\n",
    "# List of Fama-French datasets to fetch\n",
    "datasets = [\n",
    "    \"F-F_Research_Data_Factors\",  # Fama-French 3 Factors (Market, SMB, HML)\n",
    "    \"F-F_Research_Data_5_Factors_2x3\",  # Fama-French 5 Factors (Market, SMB, HML, RMW, CMA)\n",
    "    \"F-F_Momentum_Factor\",  # Carhart 4th Momentum Factor\n",
    "    \"F-F_ST_Reversal_Factor\",  # Short-Term Reversal Factor\n",
    "    \"F-F_LT_Reversal_Factor\"  # Long-Term Reversal Factor\n",
    "]\n",
    "\n",
    "# Fetch data from the Fama-French dataset\n",
    "fama_french_data = {}\n",
    "\n",
    "for dataset in datasets:\n",
    "    try:\n",
    "        fama_french_data[dataset] = web.DataReader(dataset, \"famafrench\")\n",
    "        print(f\"Downloaded: {dataset}\")\n",
    "    except Exception as e:\n",
    "        print(f\"Failed to download {dataset}: {e}\")\n",
    "\n",
    "# Extracting and saving the datasets into CSV files\n",
    "for dataset, data in fama_french_data.items():\n",
    "    # The returned data is a dictionary where key 0 contains the main DataFrame\n",
    "    df = data[0]  # Main dataset\n",
    "    \n",
    "    # Save to CSV file\n",
    "    df.to_csv(f\"data/{dataset}.csv\")\n",
    "    print(f\"Saved {dataset}.csv\")\n",
    "    dfs.append(df)"
   ]
  },
  {
   "cell_type": "code",
   "execution_count": 41,
   "id": "42f9fe6b-d7ed-498b-89ae-575a50f01e16",
   "metadata": {},
   "outputs": [
    {
     "data": {
      "text/plain": [
       "10"
      ]
     },
     "execution_count": 41,
     "metadata": {},
     "output_type": "execute_result"
    }
   ],
   "source": [
    "len(dfs)"
   ]
  },
  {
   "cell_type": "markdown",
   "id": "c791509e-305e-425d-95fa-e680254c7e02",
   "metadata": {},
   "source": [
    "## 1. Download basic factors for Europe from Fama French"
   ]
  },
  {
   "cell_type": "code",
   "execution_count": 69,
   "id": "dd5cb21a-5fdf-434b-bec2-a175a3c62292",
   "metadata": {},
   "outputs": [
    {
     "data": {
      "text/html": [
       "<div>\n",
       "<style scoped>\n",
       "    .dataframe tbody tr th:only-of-type {\n",
       "        vertical-align: middle;\n",
       "    }\n",
       "\n",
       "    .dataframe tbody tr th {\n",
       "        vertical-align: top;\n",
       "    }\n",
       "\n",
       "    .dataframe thead th {\n",
       "        text-align: right;\n",
       "    }\n",
       "</style>\n",
       "<table border=\"1\" class=\"dataframe\">\n",
       "  <thead>\n",
       "    <tr style=\"text-align: right;\">\n",
       "      <th></th>\n",
       "      <th>Mkt-RF</th>\n",
       "      <th>SMB</th>\n",
       "      <th>HML</th>\n",
       "    </tr>\n",
       "    <tr>\n",
       "      <th>Unnamed: 0</th>\n",
       "      <th></th>\n",
       "      <th></th>\n",
       "      <th></th>\n",
       "    </tr>\n",
       "  </thead>\n",
       "  <tbody>\n",
       "    <tr>\n",
       "      <th>1990-07-02</th>\n",
       "      <td>0.0099</td>\n",
       "      <td>0.0006</td>\n",
       "      <td>-0.0056</td>\n",
       "    </tr>\n",
       "    <tr>\n",
       "      <th>1990-07-03</th>\n",
       "      <td>0.0033</td>\n",
       "      <td>-0.0011</td>\n",
       "      <td>0.0000</td>\n",
       "    </tr>\n",
       "    <tr>\n",
       "      <th>1990-07-04</th>\n",
       "      <td>0.0024</td>\n",
       "      <td>0.0000</td>\n",
       "      <td>-0.0019</td>\n",
       "    </tr>\n",
       "    <tr>\n",
       "      <th>1990-07-05</th>\n",
       "      <td>-0.0064</td>\n",
       "      <td>0.0020</td>\n",
       "      <td>0.0008</td>\n",
       "    </tr>\n",
       "    <tr>\n",
       "      <th>1990-07-06</th>\n",
       "      <td>0.0007</td>\n",
       "      <td>-0.0018</td>\n",
       "      <td>0.0013</td>\n",
       "    </tr>\n",
       "  </tbody>\n",
       "</table>\n",
       "</div>"
      ],
      "text/plain": [
       "            Mkt-RF     SMB     HML\n",
       "Unnamed: 0                        \n",
       "1990-07-02  0.0099  0.0006 -0.0056\n",
       "1990-07-03  0.0033 -0.0011  0.0000\n",
       "1990-07-04  0.0024  0.0000 -0.0019\n",
       "1990-07-05 -0.0064  0.0020  0.0008\n",
       "1990-07-06  0.0007 -0.0018  0.0013"
      ]
     },
     "execution_count": 69,
     "metadata": {},
     "output_type": "execute_result"
    }
   ],
   "source": [
    "# Define Fama-French factors URL\n",
    "ff_url = \"https://mba.tuck.dartmouth.edu/pages/faculty/ken.french/ftp/Europe_3_Factors_Daily_CSV.zip\"\n",
    "\n",
    "# american market for checking differences\n",
    "# ff_url = \"https://mba.tuck.dartmouth.edu/pages/faculty/ken.french/ftp/F-F_Research_Data_Factors_daily_CSV.zip\"\n",
    "\n",
    "# Download and read the data\n",
    "ff_factors = pd.read_csv(ff_url, skiprows=3)\n",
    "\n",
    "# Remove last row (which contains copyright info)\n",
    "ff_factors = ff_factors.iloc[:-1]\n",
    "\n",
    "# Convert index column to datetime format\n",
    "ff_factors.iloc[:, 0] = pd.to_datetime(ff_factors.iloc[:, 0], format='%Y%m%d')\n",
    "ff_factors.set_index(ff_factors.columns[0], inplace=True)\n",
    "\n",
    "# Save to CSV (optional)\n",
    "ff_factors.to_csv(\"fama_french_factors.csv\")\n",
    "\n",
    "ff_factors = ff_factors / 100\n",
    "ff_factors = ff_factors.drop(columns = ['RF'])\n",
    "# Display the first few rows\n",
    "ff_factors.head()"
   ]
  },
  {
   "cell_type": "code",
   "execution_count": 70,
   "id": "32ddca6f-6522-4eda-8e7e-ce169342e974",
   "metadata": {},
   "outputs": [],
   "source": [
    "ff_factors_daily = ff_factors.copy()"
   ]
  },
  {
   "cell_type": "markdown",
   "id": "a70d8ae0-48e0-498d-bb26-e70ca885149b",
   "metadata": {},
   "source": [
    "# 2. Calculate monthly volatility of the market & set factors to monthly observations"
   ]
  },
  {
   "cell_type": "code",
   "execution_count": 71,
   "id": "dfb76ab0-be7a-4e66-bf9c-104ecd558ce4",
   "metadata": {},
   "outputs": [
    {
     "data": {
      "text/plain": [
       "Unnamed: 0\n",
       "1990-07-31    0.021086\n",
       "1990-08-31    0.058849\n",
       "1990-09-30    0.039960\n",
       "1990-10-31    0.053065\n",
       "1990-11-30    0.030129\n",
       "Freq: M, Name: Mkt-RF, dtype: float64"
      ]
     },
     "execution_count": 71,
     "metadata": {},
     "output_type": "execute_result"
    }
   ],
   "source": [
    "monthly_mkt_lagged_std = ff_factors['Mkt-RF'].resample('M').std()*np.sqrt(21)\n",
    "# this variable constains observations of monthly colatility for the previous month. For example,\n",
    "# 1990-08-31 observation has info about month 1990-08.\n",
    "monthly_mkt_lagged_std.head()"
   ]
  },
  {
   "cell_type": "markdown",
   "id": "2fc4f561-3005-4d49-81d0-fb432f571896",
   "metadata": {},
   "source": [
    "I set factors to their monthly observations to be consistent with the source paper"
   ]
  },
  {
   "cell_type": "code",
   "execution_count": 72,
   "id": "5c94421e-a3cc-43fe-8aad-2a99971db6f0",
   "metadata": {},
   "outputs": [],
   "source": [
    "ff_factors = (ff_factors+1).resample('M').prod()-1"
   ]
  },
  {
   "cell_type": "code",
   "execution_count": 73,
   "id": "474c1d1d-cbeb-434f-a27f-ab131f97673e",
   "metadata": {},
   "outputs": [
    {
     "data": {
      "text/html": [
       "<div>\n",
       "<style scoped>\n",
       "    .dataframe tbody tr th:only-of-type {\n",
       "        vertical-align: middle;\n",
       "    }\n",
       "\n",
       "    .dataframe tbody tr th {\n",
       "        vertical-align: top;\n",
       "    }\n",
       "\n",
       "    .dataframe thead th {\n",
       "        text-align: right;\n",
       "    }\n",
       "</style>\n",
       "<table border=\"1\" class=\"dataframe\">\n",
       "  <thead>\n",
       "    <tr style=\"text-align: right;\">\n",
       "      <th></th>\n",
       "      <th>Mkt-RF</th>\n",
       "      <th>SMB</th>\n",
       "      <th>HML</th>\n",
       "    </tr>\n",
       "    <tr>\n",
       "      <th>Unnamed: 0</th>\n",
       "      <th></th>\n",
       "      <th></th>\n",
       "      <th></th>\n",
       "    </tr>\n",
       "  </thead>\n",
       "  <tbody>\n",
       "    <tr>\n",
       "      <th>1990-07-31</th>\n",
       "      <td>0.044080</td>\n",
       "      <td>0.002501</td>\n",
       "      <td>-0.014345</td>\n",
       "    </tr>\n",
       "    <tr>\n",
       "      <th>1990-08-31</th>\n",
       "      <td>-0.107923</td>\n",
       "      <td>0.000244</td>\n",
       "      <td>-0.003822</td>\n",
       "    </tr>\n",
       "    <tr>\n",
       "      <th>1990-09-30</th>\n",
       "      <td>-0.121506</td>\n",
       "      <td>0.022221</td>\n",
       "      <td>0.004685</td>\n",
       "    </tr>\n",
       "    <tr>\n",
       "      <th>1990-10-31</th>\n",
       "      <td>0.064231</td>\n",
       "      <td>-0.026097</td>\n",
       "      <td>-0.010287</td>\n",
       "    </tr>\n",
       "    <tr>\n",
       "      <th>1990-11-30</th>\n",
       "      <td>-0.004146</td>\n",
       "      <td>-0.026249</td>\n",
       "      <td>0.005797</td>\n",
       "    </tr>\n",
       "  </tbody>\n",
       "</table>\n",
       "</div>"
      ],
      "text/plain": [
       "              Mkt-RF       SMB       HML\n",
       "Unnamed: 0                              \n",
       "1990-07-31  0.044080  0.002501 -0.014345\n",
       "1990-08-31 -0.107923  0.000244 -0.003822\n",
       "1990-09-30 -0.121506  0.022221  0.004685\n",
       "1990-10-31  0.064231 -0.026097 -0.010287\n",
       "1990-11-30 -0.004146 -0.026249  0.005797"
      ]
     },
     "execution_count": 73,
     "metadata": {},
     "output_type": "execute_result"
    }
   ],
   "source": [
    "ff_factors.head()"
   ]
  },
  {
   "cell_type": "markdown",
   "id": "4298f538-f55c-4384-9258-246ab92f2033",
   "metadata": {},
   "source": [
    "The monthly data is also used, because rabalancing is done monthly."
   ]
  },
  {
   "cell_type": "markdown",
   "id": "b07ba3e1-03f8-4aa8-abbe-a9019f36557b",
   "metadata": {},
   "source": [
    "## 2. Design parametric portfolio"
   ]
  },
  {
   "cell_type": "code",
   "execution_count": 129,
   "id": "5f3af987-282c-4965-958e-8dc77b0dc263",
   "metadata": {},
   "outputs": [],
   "source": [
    "def MVP_w(returns):\n",
    "    \"\"\"\n",
    "    Compute the weights of the Minimum Variance Portfolio (MVP) given asset return data.\n",
    "\n",
    "    Parameters:\n",
    "    returns (pd.DataFrame): A DataFrame where each column represents the returns of a different asset.\n",
    "\n",
    "    Returns:\n",
    "    np.ndarray: A 1D array containing the optimal weights for each asset in the minimum variance portfolio.\n",
    "\n",
    "    Description:\n",
    "    - This function calculates the weights of the Minimum Variance Portfolio (MVP), which is the portfolio \n",
    "      that minimizes risk (variance) while achieving a given level of expected return.\n",
    "    - It does so by solving for the weights that minimize portfolio variance using the formula:\n",
    "      \n",
    "      w = (V⁻¹ * μ) / (1ᵀ * V⁻¹ * μ)\n",
    "      \n",
    "      where:\n",
    "      - V is the covariance matrix of asset returns.\n",
    "      - μ is the vector of expected returns.\n",
    "      - 1 is a vector of ones (to sum weights to 1).\n",
    "    \"\"\"\n",
    "    \n",
    "    ones = np.ones(len(returns.columns))\n",
    "    mu = returns.mean()\n",
    "    V = returns.cov()\n",
    "    \n",
    "    numerator = np.linalg.inv(V) @ mu\n",
    "    denominator = ones.T @ numerator\n",
    "    w = numerator / denominator\n",
    "    return w \n",
    "\n",
    "def Market_w(returns):\n",
    "    \"\"\"\n",
    "    Returns weights that are equal to 1 for market and 0 for other factors\n",
    "    \"\"\"\n",
    "    return [1]+ (len(returns.columns)-1)*[0]\n",
    "\n",
    "def EW_w(returns):\n",
    "    \"\"\"\n",
    "    Equally weighted portfolio\n",
    "    \"\"\"\n",
    "    return (len(returns.columns))*[1/len(returns.columns)]\n",
    "\n",
    "def sharpe_ratio(returns, frequency=252, Rf=0):\n",
    "    \"\"\"\n",
    "    Calculate the Sharpe Ratio of a given asset or portfolio.\n",
    "\n",
    "    Parameters:\n",
    "    returns (pd.Series or pd.DataFrame): A series or DataFrame of asset returns.\n",
    "    frequency (int, optional): The number of trading periods in a year (default is 252 for daily returns).\n",
    "    Rf (float, optional): The risk-free rate (default is 0).\n",
    "\n",
    "    Returns:\n",
    "    float or pd.Series: The Sharpe Ratio, which measures risk-adjusted return.\n",
    "\n",
    "    Description:\n",
    "    - The Sharpe Ratio evaluates the excess return per unit of risk (volatility).\n",
    "    - It is calculated as:\n",
    "\n",
    "      SR = (E[R] - Rf) / σ\n",
    "\n",
    "      where:\n",
    "      - E[R] is the expected return (mean return annualized).\n",
    "      - Rf is the risk-free rate.\n",
    "      - σ is the standard deviation of returns (annualized).\n",
    "    - Higher values indicate better risk-adjusted performance.\n",
    "\n",
    "    Notes:\n",
    "    - If `returns` is a DataFrame, the function returns a Series of Sharpe Ratios for each asset.\n",
    "    - Assumes returns are in decimal form (e.g., 0.01 for 1%).\n",
    "    \"\"\"\n",
    "    \n",
    "    mean_return = returns.mean()\n",
    "    vol = returns.std()\n",
    "    \n",
    "    y_mean_return = mean_return * frequency\n",
    "    y_vol = vol * np.sqrt(frequency)  # Fixed variable name (was 'm_vol')\n",
    "\n",
    "    SR = (y_mean_return - Rf) / y_vol\n",
    "    return SR\n",
    "\n",
    "def sharpe_ratio_difference_test(returns_n, returns_m, sr_n, sr_m):\n",
    "    \"\"\"\n",
    "    Computes the Jobson-Korkie-Memmel (JKM) test statistic to evaluate whether \n",
    "    the difference in Sharpe Ratios between two portfolios is statistically significant.\n",
    "    \n",
    "    Parameters:\n",
    "    - returns_n: Daily returns of portfolio n (e.g., alternative strategy)\n",
    "    - returns_m: Daily returns of portfolio m (e.g., market benchmark)\n",
    "    - sr_n: Sharpe Ratio of portfolio n\n",
    "    - sr_m: Sharpe Ratio of portfolio m\n",
    "    - T: Number of observations (trading days)\n",
    "\n",
    "    Returns:\n",
    "    - z_stat: Z-score indicating how significant the difference in Sharpe Ratios is\n",
    "    - p_value: P-value (small p-value means the difference is statistically significant)\n",
    "    \"\"\"\n",
    "    \n",
    "    T = len(returns_n) \n",
    "    \n",
    "    # Compute correlation between excess returns of the two portfolios\n",
    "    rho_nm = np.corrcoef(returns_n.astype(np.float32), returns_m.astype(np.float32))[0, 1]\n",
    "\n",
    "    # Compute variance of the difference in Sharpe Ratios using the Jobson-Korkie-Memmel formula\n",
    "    variance_diff = (1 / T) * (2 - 2 * rho_nm + 0.5 * (sr_n**2 + sr_m**2 - 2 * sr_n * sr_m * rho_nm**2))\n",
    "\n",
    "    # Compute the test statistic (Z-score), which measures how different the Sharpe Ratios are\n",
    "    z_stat = (sr_n - sr_m) / np.sqrt(variance_diff)\n",
    "\n",
    "    # Compute the two-tailed p-value, which tests if the difference is statistically significant\n",
    "    p_value = 2 * (1 - norm.cdf(abs(z_stat)))\n",
    "\n",
    "    # Return the test statistic and p-value\n",
    "    return p_value.round(3)\n",
    "\n",
    "\n",
    "def get_first_last_dates_each_month(df):\n",
    "    \"\"\"\n",
    "    Given a DataFrame with dates as index, this function returns a DataFrame\n",
    "    containing the first and last date for each month.\n",
    "\n",
    "    Parameters:\n",
    "    df (pd.DataFrame): DataFrame with a datetime index.\n",
    "\n",
    "    Returns:\n",
    "    pd.DataFrame: A DataFrame with first and last date of each month.\n",
    "    \"\"\"\n",
    "\n",
    "    # Convert index to datetime if not already\n",
    "    df.index = pd.to_datetime(df.index)\n",
    "\n",
    "    # Group by year-month and find first and last date\n",
    "    first_dates = df.groupby(df.index.to_period('M')).apply(lambda x: x.index.min())\n",
    "    last_dates = df.groupby(df.index.to_period('M')).apply(lambda x: x.index.max())\n",
    "\n",
    "    # Create a DataFrame with results\n",
    "    date_summary = pd.DataFrame({'First_Date': first_dates, 'Last_Date': last_dates})\n",
    "\n",
    "    return date_summary\n",
    "\n",
    "def find_optimal_rebalancing_weights(daily_returns, \n",
    "                                     dates_of_period_start_and_end,\n",
    "                                     weight_optimization_function,\n",
    "                                     est_window=120):\n",
    "    \"\"\"\n",
    "    Computes the optimal portfolio weights for rebalancing at the start of each month \n",
    "    using a rolling estimation window of past returns.\n",
    "\n",
    "    Parameters:\n",
    "    - daily_returns (pd.DataFrame): A DataFrame containing daily return data with dates as index. \n",
    "      Monthly returns can be used too\n",
    "    - dates_of_period_start_and_end (pd.DataFrame): A DataFrame containing the first and last trading \n",
    "      dates of each month, with columns ['First_Date', 'Last_Date'].\n",
    "    - est_window (int): The number of months used for the estimation window (default is 120 months).\n",
    "\n",
    "    Returns:\n",
    "    - pd.DataFrame: A DataFrame where each row corresponds to the rebalancing date and contains \n",
    "      the optimal portfolio weights for that period.\n",
    "    \"\"\"\n",
    "\n",
    "    # Initialize an empty DataFrame to store optimal weights at the start of each month\n",
    "    weights_start_of_month = pd.DataFrame(columns=daily_returns.columns)\n",
    "\n",
    "    # Iterate over each month to determine rebalancing weights\n",
    "    for month_number in np.arange(est_window, dates_of_period_start_and_end.shape[0], 1):\n",
    "\n",
    "        # Determine the start and end dates of the rolling estimation window\n",
    "        start_date_of_sample = dates_of_period_start_and_end.loc[:, 'First_Date'].iloc[month_number - est_window]  # Oldest date in the estimation window\n",
    "        end_date_of_sample = dates_of_period_start_and_end.loc[:, 'Last_Date'].iloc[month_number - 1]  # Last date before rebalancing\n",
    "\n",
    "        # Extract the estimation dataset (past returns used to compute optimal weights)\n",
    "        estimation_dataset = daily_returns.loc[start_date_of_sample:end_date_of_sample, :]\n",
    "\n",
    "        # Compute optimal portfolio weights based on the estimation dataset\n",
    "        optimal_weights = weight_optimization_function(estimation_dataset)\n",
    "\n",
    "        # Determine the rebalancing date (first trading day of the current month)\n",
    "        rebalancing_date = dates_of_period_start_and_end.loc[:, 'First_Date'].iloc[month_number]\n",
    "\n",
    "        # Store the computed optimal weights for the corresponding rebalancing date\n",
    "        weights_start_of_month.loc[rebalancing_date, :] = optimal_weights\n",
    "\n",
    "    return weights_start_of_month\n",
    "\n",
    "\n",
    "def compute_weight_drift_oos(dates_of_period_start_and_end_oos, returns_daily_oos, weights_start_of_month):\n",
    "    \"\"\"\n",
    "    Compute the weight drift for each day in the out-of-sample (OOS) dataset by tracking how \n",
    "    portfolio weights evolve due to factor returns over time.\n",
    "\n",
    "    Parameters:\n",
    "    - dates_of_period_start_and_end_oos (pd.DataFrame): DataFrame containing 'First_Date' and 'Last_Date' for each period.\n",
    "    - returns_daily_oos (pd.DataFrame): DataFrame containing daily returns of assets (factors, stocks, or other instruments).\n",
    "    - weights_start_of_month (pd.DataFrame): DataFrame containing initial weights at the start of each month.\n",
    "\n",
    "    Returns:\n",
    "    - weights_end_of_month (pd.DataFrame): Drifted weights at the last date of each period.\n",
    "    - weights_daily (pd.DataFrame): Drifted weights for **every single day** in the dataset.\n",
    "    \"\"\"\n",
    "\n",
    "    # Initialize DataFrames to store drifted weights\n",
    "    weights_end_of_month = pd.DataFrame(index=dates_of_period_start_and_end_oos[\"Last_Date\"],\n",
    "                                        columns=weights_start_of_month.columns)\n",
    "    \n",
    "    weights_daily = pd.DataFrame(index=returns_daily_oos.index, columns=weights_start_of_month.columns)\n",
    "\n",
    "    # Iterate over each month to compute weight drift\n",
    "    for _, row in dates_of_period_start_and_end_oos.iterrows():\n",
    "        start_date, end_date = row[\"First_Date\"], row[\"Last_Date\"]\n",
    "\n",
    "        # Get initial weights at the start of the month\n",
    "        initial_weights = weights_start_of_month.loc[start_date]\n",
    "\n",
    "        # Extract daily returns for the period\n",
    "        monthly_returns = returns_daily_oos.loc[start_date:end_date]\n",
    "\n",
    "        if not monthly_returns.empty:\n",
    "            # Compute cumulative returns over the period\n",
    "            portfolio_values = (1 + monthly_returns).cumprod()\n",
    "\n",
    "            # Compute drifted weights for each day\n",
    "            for current_date in monthly_returns.index:\n",
    "                daily_values = initial_weights * portfolio_values.loc[current_date]\n",
    "                weights_daily.loc[current_date] = daily_values / daily_values.sum()\n",
    "\n",
    "            # Store drifted weights at the last date of the month\n",
    "            final_values = initial_weights * portfolio_values.iloc[-1]\n",
    "            weights_end_of_month.loc[end_date] = final_values / final_values.sum()\n",
    "        else:\n",
    "            raise ValueError(f\"! Monthly returns not found for period {start_date} - {end_date}\")\n",
    "\n",
    "    return weights_end_of_month, weights_daily"
   ]
  },
  {
   "cell_type": "markdown",
   "id": "fb35b322-1c7c-41e8-ab53-5518e747fd20",
   "metadata": {},
   "source": [
    "The estimation window is 120 months. I apply rolling window of 120 months to find optimal weights for portfolio of factors for the next period."
   ]
  },
  {
   "cell_type": "code",
   "execution_count": 130,
   "id": "63bc885b-34ea-47ff-ae60-14b19c928a6b",
   "metadata": {},
   "outputs": [],
   "source": [
    "def find_portfolio_returns(ff_factors_daily,\n",
    "                           weight_optimization_function,\n",
    "                           est_window = 120\n",
    "                          ):\n",
    "\n",
    "    \"\"\"\n",
    "    This is main function that calls all other functions \n",
    "    one by one to find optimal weight allocations,\n",
    "    weight drifts and find returns\n",
    "    \"\"\"\n",
    "    # find the first and last trading date for each month\n",
    "    dates_of_period_start_and_end = get_first_last_dates_each_month(ff_factors_daily)\n",
    "    \n",
    "    # find weights for start of each month out of sample\n",
    "    weights_start_of_month = find_optimal_rebalancing_weights(ff_factors_daily, \n",
    "                                                              dates_of_period_start_and_end,\n",
    "                                                              weight_optimization_function = weight_optimization_function,\n",
    "                                                              est_window = est_window)\n",
    "\n",
    "    # to make all weights equal to the initial allocation\n",
    "    # weights_start_of_month[:] = weights_start_of_month.iloc[0]\n",
    "    \n",
    "    # find all dates in the first and last trading date for each month that are out of sample\n",
    "    dates_of_period_start_and_end_oos = dates_of_period_start_and_end[\n",
    "            dates_of_period_start_and_end[\"First_Date\"].isin(weights_start_of_month.index)]\n",
    "    \n",
    "    # find out of sample observations of factor returns\n",
    "    ff_factors_daily_oos = ff_factors_daily.loc[weights_start_of_month.index[0]:,:]\n",
    "    \n",
    "    # within each First_Date and each Last_Date the weights drift. Hence, one needs \n",
    "    # to find cumulative return between each of those dates to find the actual weights\n",
    "    # this will allow to find actual returns of the portfolio\n",
    "    # and this will allow also to account for transaction costs correctly, because difference \n",
    "    # between last date of the month weight and first date of the month weight is the actual transaction cost\n",
    "    \n",
    "    weights_end_of_month, weights_daily = compute_weight_drift_oos(dates_of_period_start_and_end_oos,\n",
    "                                                                   ff_factors_daily_oos, \n",
    "                                                                   weights_start_of_month)\n",
    "    \n",
    "    portfolio_return_oos = np.sum(weights_daily*ff_factors_daily_oos, axis = 1)\n",
    "    \n",
    "    # some tresholds on daily returns, because some models may go wrong\n",
    "    portfolio_return_oos[portfolio_return_oos>0.3] = 0.3\n",
    "    portfolio_return_oos[portfolio_return_oos<-0.3] = -0.3\n",
    "    \n",
    "    return portfolio_return_oos, weights_start_of_month, weights_end_of_month, weights_daily"
   ]
  },
  {
   "cell_type": "code",
   "execution_count": 131,
   "id": "033deace-d3c6-44c3-b9ae-1bfe8e2043f0",
   "metadata": {},
   "outputs": [],
   "source": [
    "market_portfolio,_,_, weights_daily_mkt = find_portfolio_returns(ff_factors_daily,\n",
    "                                           Market_w,\n",
    "                                           est_window = 120\n",
    "                                          )"
   ]
  },
  {
   "cell_type": "code",
   "execution_count": 132,
   "id": "c87acf80-1b89-424e-a1f4-80d9b9dfecf6",
   "metadata": {},
   "outputs": [],
   "source": [
    "mpv_portfolio,_,_, weights_daily_mvp = find_portfolio_returns(ff_factors_daily,\n",
    "                                           MVP_w,\n",
    "                                           est_window = 120\n",
    "                                          )"
   ]
  },
  {
   "cell_type": "code",
   "execution_count": 133,
   "id": "aa2dfabf-a8cc-40db-9f85-4a3276582bb3",
   "metadata": {},
   "outputs": [],
   "source": [
    "ew_portfolio,_,_, weights_daily_mvp = find_portfolio_returns(ff_factors_daily,\n",
    "                                           EW_w,\n",
    "                                           est_window = 120\n",
    "                                          )"
   ]
  },
  {
   "cell_type": "code",
   "execution_count": 134,
   "id": "a6c01a08-cc15-4300-804a-53e072567409",
   "metadata": {},
   "outputs": [
    {
     "data": {
      "image/png": "[encoded data removed]",
      "text/plain": [
       "<Figure size 1200x600 with 1 Axes>"
      ]
     },
     "metadata": {},
     "output_type": "display_data"
    }
   ],
   "source": [
    "# Assuming market_portfolio, mpv_portfolio, and ew_portfolio are already defined Pandas Series\n",
    "\n",
    "# Create a figure with increased size for better readability\n",
    "plt.figure(figsize=(12, 6))\n",
    "\n",
    "# Plot cumulative returns for each portfolio\n",
    "plt.plot((1 + market_portfolio).cumprod(), label=\"Market Portfolio\", linewidth=2, linestyle='-', color='blue')\n",
    "plt.plot((1 + mpv_portfolio).cumprod(), label=\"Minimum Variance Portfolio\", linewidth=2, linestyle='--', color='orange')\n",
    "plt.plot((1 + ew_portfolio).cumprod(), label=\"Equally Weighted Factor Portfolio\", linewidth=2, linestyle='-.', color='green')\n",
    "\n",
    "# Add title and labels\n",
    "plt.title(\"Cumulative Performance of Different Portfolios\", fontsize=14, fontweight='bold')\n",
    "plt.xlabel(\"Year\", fontsize=12)\n",
    "plt.ylabel(\"Cumulative Return\", fontsize=12)\n",
    "\n",
    "# Add grid and legend\n",
    "plt.grid(True, linestyle='--', alpha=0.6)\n",
    "plt.legend(fontsize=12, loc=\"upper left\")\n",
    "\n",
    "# Show the plot\n",
    "plt.show()"
   ]
  },
  {
   "cell_type": "code",
   "execution_count": 135,
   "id": "d6244e56-82e8-4fb8-8c24-ce33bac7f2f4",
   "metadata": {},
   "outputs": [],
   "source": [
    "#visit: https://www.linkedin.com/posts/michael-aked_moreira-and-muir-2017-show-that-managed-activity-7116890003309268992-53R3?trk=public_profile_like_view"
   ]
  },
  {
   "cell_type": "markdown",
   "id": "350729b9-5f09-4014-91be-69c728f7177b",
   "metadata": {},
   "source": [
    "To add:\n",
    "\n",
    "- volatility-managed factors\n",
    "- more factors\n",
    "- SR test\n",
    "- find out why portfolio is so bad performing $weights = \\alpha_k +\\beta_k*1/\\sigma_t$ where alpha and beta do not depend on time?"
   ]
  },
  {
   "cell_type": "code",
   "execution_count": 136,
   "id": "62946456-10d8-440c-9827-bd4794c097c9",
   "metadata": {},
   "outputs": [
    {
     "data": {
      "text/html": [
       "<div>\n",
       "<style scoped>\n",
       "    .dataframe tbody tr th:only-of-type {\n",
       "        vertical-align: middle;\n",
       "    }\n",
       "\n",
       "    .dataframe tbody tr th {\n",
       "        vertical-align: top;\n",
       "    }\n",
       "\n",
       "    .dataframe thead th {\n",
       "        text-align: right;\n",
       "    }\n",
       "</style>\n",
       "<table border=\"1\" class=\"dataframe\">\n",
       "  <thead>\n",
       "    <tr style=\"text-align: right;\">\n",
       "      <th></th>\n",
       "      <th>Sharpe Ratio</th>\n",
       "      <th>p-value vs mkt</th>\n",
       "    </tr>\n",
       "  </thead>\n",
       "  <tbody>\n",
       "    <tr>\n",
       "      <th>Market Portfolio</th>\n",
       "      <td>0.272369</td>\n",
       "      <td>NaN</td>\n",
       "    </tr>\n",
       "    <tr>\n",
       "      <th>Minimum Variance Portfolio</th>\n",
       "      <td>0.135025</td>\n",
       "      <td>0.0</td>\n",
       "    </tr>\n",
       "    <tr>\n",
       "      <th>Equally Weighted Factor Portfolio</th>\n",
       "      <td>0.722937</td>\n",
       "      <td>0.0</td>\n",
       "    </tr>\n",
       "  </tbody>\n",
       "</table>\n",
       "</div>"
      ],
      "text/plain": [
       "                                   Sharpe Ratio  p-value vs mkt\n",
       "Market Portfolio                       0.272369             NaN\n",
       "Minimum Variance Portfolio             0.135025             0.0\n",
       "Equally Weighted Factor Portfolio      0.722937             0.0"
      ]
     },
     "execution_count": 136,
     "metadata": {},
     "output_type": "execute_result"
    }
   ],
   "source": [
    "# Calculate Sharpe Ratios for each portfolio\n",
    "sharpe_ratios = {\n",
    "    \"Market Portfolio\": sharpe_ratio(market_portfolio),\n",
    "    \"Minimum Variance Portfolio\": sharpe_ratio(mpv_portfolio),\n",
    "    \"Equally Weighted Factor Portfolio\": sharpe_ratio(ew_portfolio)\n",
    "}\n",
    "\n",
    "# Convert results into a DataFrame\n",
    "sharpe_df = pd.DataFrame.from_dict(sharpe_ratios, orient='index', columns=[\"Sharpe Ratio\"])\n",
    "\n",
    "sharpe_df.loc['Minimum Variance Portfolio', 'p-value vs mkt'] = sharpe_ratio_difference_test(mpv_portfolio,\n",
    "                                                                                                  market_portfolio,\n",
    "                                                                                                  sharpe_ratio(mpv_portfolio),\n",
    "                                                                                                  sharpe_ratio(market_portfolio))\n",
    "\n",
    "sharpe_df.loc['Equally Weighted Factor Portfolio', 'p-value vs mkt'] = sharpe_ratio_difference_test(ew_portfolio, \n",
    "                                                                                                         market_portfolio,\n",
    "                                                                                                         sharpe_ratio(ew_portfolio), \n",
    "                                                                                                         sharpe_ratio(market_portfolio))\n",
    "\n",
    "sharpe_df"
   ]
  },
  {
   "cell_type": "code",
   "execution_count": null,
   "id": "04902b7c-9d6a-4abe-8a94-2fb40e9661a9",
   "metadata": {},
   "outputs": [],
   "source": []
  }
 ],
 "metadata": {
  "kernelspec": {
   "display_name": "Python 3 (ipykernel)",
   "language": "python",
   "name": "python3"
  },
  "language_info": {
   "codemirror_mode": {
    "name": "ipython",
    "version": 3
   },
   "file_extension": ".py",
   "mimetype": "text/x-python",
   "name": "python",
   "nbconvert_exporter": "python",
   "pygments_lexer": "ipython3",
   "version": "3.8.9"
  }
 },
 "nbformat": 4,
 "nbformat_minor": 5
}
